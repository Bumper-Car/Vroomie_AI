{
  "nbformat": 4,
  "nbformat_minor": 0,
  "metadata": {
    "colab": {
      "provenance": []
    },
    "kernelspec": {
      "name": "python3",
      "display_name": "Python 3"
    },
    "language_info": {
      "name": "python"
    }
  },
  "cells": [
    {
      "cell_type": "code",
      "execution_count": null,
      "metadata": {
        "id": "CdWComKEv35w"
      },
      "outputs": [],
      "source": [
        "# 필수 라이브러리 설치\n",
        "!pip install flask pyngrok ultralytics\n",
        "\n",
        "# pyngrok에 내 계정의 authtoken 등록\n",
        "from pyngrok import conf, ngrok\n",
        "conf.get_default().auth_token = \"abc\"  # 여기에 본인의 ngrok 토큰 입력\n",
        "\n",
        "# 모델 로딩\n",
        "from ultralytics import YOLO\n",
        "model = YOLO('yolov8n.pt')  # 또는 'yolov8s.pt', 'yolov8m.pt' 등 가벼운 모델 선택 가능\n",
        "\n",
        "# 서버 정의\n",
        "from flask import Flask, request, jsonify\n",
        "import base64\n",
        "import numpy as np\n",
        "import cv2\n",
        "\n",
        "app = Flask(__name__)\n",
        "\n",
        "# 카메라 파라미터 (거리 계산용)\n",
        "FOCAL_LENGTH = 600\n",
        "REAL_CAR_WIDTH = 1.3\n",
        "\n",
        "@app.route('/detect', methods=['POST'])\n",
        "def detect_objects():\n",
        "    try:\n",
        "        data = request.get_json()\n",
        "        img_b64 = data['image']\n",
        "        img_bytes = base64.b64decode(img_b64)\n",
        "\n",
        "        # 바이트를 이미지로 디코딩\n",
        "        nparr = np.frombuffer(img_bytes, np.uint8)\n",
        "        frame = cv2.imdecode(nparr, cv2.IMREAD_COLOR)\n",
        "\n",
        "        # YOLO로 객체 탐지 수행\n",
        "        results = model(frame)\n",
        "        response_data = []\n",
        "\n",
        "        for result in results:\n",
        "            for box in result.boxes:\n",
        "                cls = int(box.cls[0])  # 클래스 ID\n",
        "                if cls == 2 or cls == 7:  # 클래스: 자동차(2) 또는 트럭(7)\n",
        "                    x1, y1, x2, y2 = map(int, box.xyxy[0])\n",
        "                    car_width = x2 - x1\n",
        "                    if car_width > 0:\n",
        "                        distance = (REAL_CAR_WIDTH * FOCAL_LENGTH) / car_width\n",
        "                        response_data.append({\n",
        "                            'class': cls,\n",
        "                            'bbox': [x1, y1, x2, y2],\n",
        "                            'distance': round(distance, 2)\n",
        "                        })\n",
        "\n",
        "        return jsonify({'results': response_data})\n",
        "\n",
        "    except Exception as e:\n",
        "        return jsonify({'error': str(e)}), 500\n",
        "\n",
        "# ngrok으로 외부 접속 주소 생성\n",
        "public_url = ngrok.connect(5000)\n",
        "print(\"YOLO API 외부 접속 주소:\", public_url)\n",
        "\n",
        "# Flask 서버 실행\n",
        "app.run()\n"
      ]
    }
  ]
}